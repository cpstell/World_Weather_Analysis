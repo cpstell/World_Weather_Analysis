{
 "cells": [
  {
   "cell_type": "code",
   "execution_count": 12,
   "id": "01812ee4-5f46-4818-8a32-47656a4bf7f2",
   "metadata": {},
   "outputs": [],
   "source": [
    "# Import the random module.\n",
    "import random"
   ]
  },
  {
   "cell_type": "code",
   "execution_count": 13,
   "id": "73ce2cac-75fd-4965-9b15-d494f834a270",
   "metadata": {},
   "outputs": [],
   "source": [
    "# Import the NumPy module.\n",
    "import numpy as np"
   ]
  },
  {
   "cell_type": "code",
   "execution_count": 14,
   "id": "12cf4cee-2ecf-4a36-9a3a-5174e731c0d8",
   "metadata": {},
   "outputs": [],
   "source": [
    "# Import timeit.\n",
    "import timeit"
   ]
  },
  {
   "cell_type": "code",
   "execution_count": 15,
   "id": "3451935e-e5b7-4e16-a85c-b2d394735d31",
   "metadata": {},
   "outputs": [
    {
     "data": {
      "text/plain": [
       "-30"
      ]
     },
     "execution_count": 15,
     "metadata": {},
     "output_type": "execute_result"
    }
   ],
   "source": [
    "random.randint(-90, 90)"
   ]
  },
  {
   "cell_type": "code",
   "execution_count": 16,
   "id": "52319e26-e8be-4498-8ad6-a0d7c80ecaf6",
   "metadata": {},
   "outputs": [
    {
     "data": {
      "text/plain": [
       "0.023952949370961374"
      ]
     },
     "execution_count": 16,
     "metadata": {},
     "output_type": "execute_result"
    }
   ],
   "source": [
    "random.random()"
   ]
  },
  {
   "cell_type": "code",
   "execution_count": 25,
   "id": "8d4277a2-9014-4b05-80e6-ccdbf08f0102",
   "metadata": {},
   "outputs": [],
   "source": [
    "x = 1\n",
    "latitudes = []\n",
    "while x < 11:\n",
    "    random_lat = random.randint(-90, 89) + random.random()\n",
    "    latitudes.append(random_lat)\n",
    "    x += 1"
   ]
  },
  {
   "cell_type": "code",
   "execution_count": 18,
   "id": "fbda7361-f6d7-4b91-988b-e2d078d76c6f",
   "metadata": {},
   "outputs": [
    {
     "data": {
      "text/plain": [
       "57"
      ]
     },
     "execution_count": 18,
     "metadata": {},
     "output_type": "execute_result"
    }
   ],
   "source": [
    "random.randrange(-90, 90, step=3)"
   ]
  },
  {
   "cell_type": "code",
   "execution_count": 19,
   "id": "10e5ad92-990b-4065-a337-2b9a6ee93ba9",
   "metadata": {},
   "outputs": [
    {
     "data": {
      "text/plain": [
       "-69.39465640084296"
      ]
     },
     "execution_count": 19,
     "metadata": {},
     "output_type": "execute_result"
    }
   ],
   "source": [
    "random.uniform(-90, 90)"
   ]
  },
  {
   "cell_type": "code",
   "execution_count": 20,
   "id": "241460f9-48b8-46e9-9ba3-741d017776db",
   "metadata": {},
   "outputs": [
    {
     "data": {
      "text/plain": [
       "25.20530168655158"
      ]
     },
     "execution_count": 20,
     "metadata": {},
     "output_type": "execute_result"
    }
   ],
   "source": [
    "np.random.uniform(-90.000, 90.000)"
   ]
  },
  {
   "cell_type": "code",
   "execution_count": 21,
   "id": "24d12ad0-e175-47a6-850e-e486cab49b19",
   "metadata": {},
   "outputs": [
    {
     "data": {
      "text/plain": [
       "array([ 53.69057977,  64.88263899, -74.46225793, -17.67435305,\n",
       "        79.23173316,  47.23144566, -62.91667499,  89.59327231,\n",
       "       -59.44552589,  -0.49402652, -11.67409338,  64.37760412,\n",
       "        76.0187898 ,  -6.88714885,   0.62766128, -22.76753785,\n",
       "        37.64526849,  85.96634318, -24.23041162,  32.35446277,\n",
       "       -54.5506406 , -75.23958927,  85.66763377,  11.4550309 ,\n",
       "       -58.73567673,  14.18615152,  51.76874811,  79.09222191,\n",
       "        60.81703382, -85.28097104,  39.31102144, -71.50954167,\n",
       "        50.06557387,  -5.00724801, -86.54991507,  36.72452278,\n",
       "       -57.20089928,  63.77111698,  32.54215295,  29.29025752,\n",
       "        21.68979726,   2.04364369, -40.78930993, -32.4718739 ,\n",
       "        87.66861408,  30.48253868,  -0.90850211, -18.04059286,\n",
       "       -55.30122655, -48.94529485])"
      ]
     },
     "execution_count": 21,
     "metadata": {},
     "output_type": "execute_result"
    }
   ],
   "source": [
    "np.random.uniform(-90.000, 90.000, size=50)"
   ]
  },
  {
   "cell_type": "code",
   "execution_count": 22,
   "id": "c206c32c-d35f-450a-ad0e-2599fbe4ed0e",
   "metadata": {},
   "outputs": [
    {
     "name": "stdout",
     "output_type": "stream",
     "text": [
      "18.2 µs ± 717 ns per loop (mean ± std. dev. of 7 runs, 100000 loops each)\n"
     ]
    }
   ],
   "source": [
    "%timeit np.random.uniform(-90.000, 90.000, size=1500)"
   ]
  },
  {
   "cell_type": "code",
   "execution_count": 23,
   "id": "07a000ca-fd4c-4810-9d49-7502ccd4f3d4",
   "metadata": {},
   "outputs": [
    {
     "name": "stdout",
     "output_type": "stream",
     "text": [
      "2.99 ms ± 325 µs per loop (mean ± std. dev. of 7 runs, 100 loops each)\n"
     ]
    }
   ],
   "source": [
    "def latitudes(size):\n",
    "    latitudes = []\n",
    "    x = 0\n",
    "    while x < (size):\n",
    "        random_lat = random.randint(-90, 90) + random.random()\n",
    "        latitudes.append(random_lat)\n",
    "        x += 1\n",
    "    return latitudes\n",
    "# Call the function with 1500.\n",
    "%timeit latitudes(1500)"
   ]
  },
  {
   "cell_type": "code",
   "execution_count": null,
   "id": "b299ae99-1263-4d0d-866c-67cdd3b85b17",
   "metadata": {},
   "outputs": [],
   "source": []
  }
 ],
 "metadata": {
  "kernelspec": {
   "display_name": "PythonData",
   "language": "python",
   "name": "pythondata"
  },
  "language_info": {
   "codemirror_mode": {
    "name": "ipython",
    "version": 3
   },
   "file_extension": ".py",
   "mimetype": "text/x-python",
   "name": "python",
   "nbconvert_exporter": "python",
   "pygments_lexer": "ipython3",
   "version": "3.7.13"
  }
 },
 "nbformat": 4,
 "nbformat_minor": 5
}
